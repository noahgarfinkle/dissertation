{
 "cells": [
  {
   "cell_type": "code",
   "execution_count": null,
   "metadata": {},
   "outputs": [],
   "source": [
    "import SiteSearch as sitesearch\n",
    "reload(sitesearch)"
   ]
  },
  {
   "cell_type": "code",
   "execution_count": null,
   "metadata": {},
   "outputs": [],
   "source": [
    "xml = \"C:/FLW_Missouri Mission Folder/RESULTS/p.xml\""
   ]
  },
  {
   "cell_type": "code",
   "execution_count": 34,
   "metadata": {},
   "outputs": [
    {
     "name": "stdout",
     "output_type": "stream",
     "text": [
      "C:/FLW_Missouri Mission Folder/Results/ 4 3857\n",
      "WKT Template\n",
      "Single Site Search\n",
      "POLYGON ((-10241634.9912456590000000 4560042.0149229020000000, -10241195.4783330190000000 4559984.6871516872000000, -10241224.1422186270000000 4558111.9799587019000000, -10241673.2097598020000000 4558064.2068160241000000, -10241634.9912456590000000 4560042.0149229020000000))\n",
      "Categorical Raster Stat: LC_LandCover_GeoCover_proj_less than.  Evaluating 1 candidates.\n",
      "Processed 1 candidates in 0 seconds\n",
      "generateRasterStatisticsForDataFrame took 0 seconds\n",
      "fillna took 0 seconds\n",
      "creatingCriteriaName took 0 seconds\n",
      "exception hit on criteria row\n"
     ]
    }
   ],
   "source": [
    "df = sitesearch.evaluateXML(xml)"
   ]
  },
  {
   "cell_type": "code",
   "execution_count": null,
   "metadata": {},
   "outputs": [],
   "source": []
  },
  {
   "cell_type": "code",
   "execution_count": null,
   "metadata": {},
   "outputs": [],
   "source": []
  }
 ],
 "metadata": {
  "kernelspec": {
   "display_name": "Python 2",
   "language": "python",
   "name": "python2"
  },
  "language_info": {
   "codemirror_mode": {
    "name": "ipython",
    "version": 2
   },
   "file_extension": ".py",
   "mimetype": "text/x-python",
   "name": "python",
   "nbconvert_exporter": "python",
   "pygments_lexer": "ipython2",
   "version": "2.7.14"
  }
 },
 "nbformat": 4,
 "nbformat_minor": 2
}
