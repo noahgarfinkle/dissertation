{
 "cells": [
  {
   "cell_type": "code",
   "execution_count": 81,
   "metadata": {},
   "outputs": [
    {
     "name": "stdout",
     "output_type": "stream",
     "text": [
      "Still need to implement spatial opt\n",
      "The line_profiler extension is already loaded. To reload it, use:\n",
      "  %reload_ext line_profiler\n"
     ]
    }
   ],
   "source": [
    "import SiteSearch as sitesearch\n",
    "reload(sitesearch)\n",
    "\n",
    "import pandas as pd\n",
    "pd.options.display.max_columns = 200\n",
    "\n",
    "%load_ext line_profiler"
   ]
  },
  {
   "cell_type": "code",
   "execution_count": 82,
   "metadata": {},
   "outputs": [],
   "source": [
    "xml = \"C:/Users/RDCERNWG/Documents/GIT/FLW_Missouri Mission Folder/RESULTS/Airfield 7_MultipleWeights.xml\""
   ]
  },
  {
   "cell_type": "code",
   "execution_count": null,
   "metadata": {},
   "outputs": [
    {
     "name": "stdout",
     "output_type": "stream",
     "text": [
      "C:/Users/RDCERNWG/Documents/GIT/FLW_Missouri Mission Folder/Results/ 1 3857\n",
      "WKT Template\n",
      "Gridded Search\n",
      "Generated 2950 candidate polygons in 1 seconds\n",
      "Categorical Raster Stat: Criteria_1.  Evaluating 2950 candidates.\n",
      "Processed 2950 candidates in 18 seconds\n",
      "generateRasterStatisticsForDataFrame took 18 seconds\n",
      "fillna took 0 seconds\n",
      "creatingCriteriaName took 0 seconds\n",
      "scoreDF for column Criteria_1 retained 2950 of 2950 candidates\n",
      "scoring took 0 seconds\n",
      "Retained 2950 of 2950 candidates\n",
      "Processed 2950 candidates in 18 seconds, retaining 2950 candidates\n",
      "Continuous Raster Stat: Criteria_2.  Evaluating 2950 candidates.\n"
     ]
    }
   ],
   "source": [
    "%lprun -f sitesearch.evaluateXML sitesearch.evaluateXML(xml,returnDFInsteadOfLayerID=True)[0]"
   ]
  },
  {
   "cell_type": "code",
   "execution_count": null,
   "metadata": {},
   "outputs": [],
   "source": []
  }
 ],
 "metadata": {
  "kernelspec": {
   "display_name": "Python 2",
   "language": "python",
   "name": "python2"
  },
  "language_info": {
   "codemirror_mode": {
    "name": "ipython",
    "version": 2
   },
   "file_extension": ".py",
   "mimetype": "text/x-python",
   "name": "python",
   "nbconvert_exporter": "python",
   "pygments_lexer": "ipython2",
   "version": "2.7.14"
  }
 },
 "nbformat": 4,
 "nbformat_minor": 2
}
