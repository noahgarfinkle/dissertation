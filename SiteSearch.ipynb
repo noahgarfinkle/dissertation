{
 "cells": [
  {
   "cell_type": "code",
   "execution_count": 66,
   "metadata": {},
   "outputs": [
    {
     "name": "stdout",
     "output_type": "stream",
     "text": [
      "Still need to implement spatial opt\n"
     ]
    },
    {
     "data": {
      "text/plain": [
       "<module 'SiteSearch' from 'SiteSearch.pyc'>"
      ]
     },
     "execution_count": 66,
     "metadata": {},
     "output_type": "execute_result"
    }
   ],
   "source": [
    "import SiteSearch as sitesearch\n",
    "reload(sitesearch)"
   ]
  },
  {
   "cell_type": "code",
   "execution_count": 67,
   "metadata": {},
   "outputs": [],
   "source": [
    "xml = \"C:/FLW_Missouri Mission Folder/RESULTS/p.xml\""
   ]
  },
  {
   "cell_type": "code",
   "execution_count": 68,
   "metadata": {},
   "outputs": [
    {
     "name": "stdout",
     "output_type": "stream",
     "text": [
      "C:/FLW_Missouri Mission Folder/Results/ 4 3857\n",
      "WKT Template\n",
      "Single Site Search\n",
      "POLYGON ((-10241634.9912456590000000 4560042.0149229020000000, -10241195.4783330190000000 4559984.6871516872000000, -10241224.1422186270000000 4558111.9799587019000000, -10241673.2097598020000000 4558064.2068160241000000, -10241634.9912456590000000 4560042.0149229020000000))\n",
      "Categorical Raster Stat: LC_LandCover_GeoCover_proj_less than.  Evaluating 1 candidates.\n",
      "Processed 1 candidates in 0 seconds\n",
      "generateRasterStatisticsForDataFrame took 0 seconds\n",
      "fillna took 0 seconds\n",
      "creatingCriteriaName took 0 seconds\n",
      "scoreDF for column LC_LandCover_GeoCover_proj_less than retained 1 of 1 candidates\n",
      "scoring took 0 seconds\n",
      "Retained 1 of 1 candidates\n",
      "Continuous Raster Stat: Road_Distance_greater than.  Evaluating 1 candidates.\n",
      "Processed 1 candidates in 0 seconds\n",
      "scoreDF for column Road_Distance_greater than retained 1 of 1 candidates\n",
      "Retained 1 of 1 candidates\n",
      "Continuous Raster Stat: Water_Distance_greater than.  Evaluating 1 candidates.\n",
      "Processed 1 candidates in 0 seconds\n",
      "scoreDF for column Water_Distance_greater than retained 1 of 1 candidates\n",
      "Retained 1 of 1 candidates\n",
      "Continuous Raster Stat: DVOF_Distance_greater than.  Evaluating 1 candidates.\n",
      "Processed 1 candidates in 0 seconds\n",
      "scoreDF for column DVOF_Distance_greater than retained 1 of 1 candidates\n",
      "Retained 1 of 1 candidates\n",
      "Continuous Raster Stat: Slope_between.  Evaluating 1 candidates.\n",
      "Processed 1 candidates in 0 seconds\n",
      "scoreDF for column Slope_between retained 1 of 1 candidates\n",
      "Retained 1 of 1 candidates\n",
      "Cut Fill: Cut Fill_less than.  Evaluating 1 candidates.\n",
      "exception hit on criteria row\n"
     ]
    },
    {
     "name": "stderr",
     "output_type": "stream",
     "text": [
      "C:\\ProgramData\\Anaconda2\\lib\\site-packages\\rasterstats\\io.py:294: UserWarning: Setting nodata to -999; specify nodata explicitly\n",
      "  warnings.warn(\"Setting nodata to -999; specify nodata explicitly\")\n"
     ]
    }
   ],
   "source": [
    "df = sitesearch.evaluateXML(xml)"
   ]
  },
  {
   "cell_type": "code",
   "execution_count": null,
   "metadata": {},
   "outputs": [],
   "source": []
  },
  {
   "cell_type": "code",
   "execution_count": null,
   "metadata": {},
   "outputs": [],
   "source": []
  }
 ],
 "metadata": {
  "kernelspec": {
   "display_name": "Python 2",
   "language": "python",
   "name": "python2"
  },
  "language_info": {
   "codemirror_mode": {
    "name": "ipython",
    "version": 2
   },
   "file_extension": ".py",
   "mimetype": "text/x-python",
   "name": "python",
   "nbconvert_exporter": "python",
   "pygments_lexer": "ipython2",
   "version": "2.7.14"
  }
 },
 "nbformat": 4,
 "nbformat_minor": 2
}
