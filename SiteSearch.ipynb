{
 "cells": [
  {
   "cell_type": "code",
   "execution_count": 327,
   "metadata": {},
   "outputs": [
    {
     "name": "stdout",
     "output_type": "stream",
     "text": [
      "The line_profiler extension is already loaded. To reload it, use:\n",
      "  %reload_ext line_profiler\n"
     ]
    }
   ],
   "source": [
    "import SiteSearch as sitesearch\n",
    "reload(sitesearch)\n",
    "\n",
    "import pandas as pd\n",
    "pd.options.display.max_columns = 200\n",
    "pd.options.display.max_rows = 10000\n",
    "\n",
    "%load_ext line_profiler\n",
    "#%lprun?"
   ]
  },
  {
   "cell_type": "code",
   "execution_count": 328,
   "metadata": {},
   "outputs": [],
   "source": [
    "xml = \"input.xml\""
   ]
  },
  {
   "cell_type": "code",
   "execution_count": null,
   "metadata": {},
   "outputs": [
    {
     "name": "stdout",
     "output_type": "stream",
     "text": [
      "C:/Users/RDCERNWG/Documents/GIT/FLW_Missouri Mission Folder/Results/ 1 3857\n",
      "Section: Site Searches\n",
      "Beginning site search 1 of 2: Airfield 1\n",
      "WKT Template\n",
      "Gridded Search\n",
      "Generated 2950 candidate polygons in 1 seconds\n",
      "Categorical Raster Stat: Criteria_1. Processed 2950 candidates in 21 seconds, retaining 2950 candidates\n",
      "Continuous Raster Stat: Criteria_2. Processed 2950 candidates in 22 seconds, retaining 2950 candidates\n",
      "Vector Layer: Criteria_3. Processed 2950 candidates in 22 seconds, retaining 2950 candidates\n",
      "Cut Fill: Criteria_4. Processed 2950 candidates in 22 seconds, retaining 2950 candidates\n",
      "Beginning site search 2 of 2: airfield 2\n",
      "WKT Template\n",
      "Gridded Search\n",
      "Generated 1482 candidate polygons in 1 seconds\n",
      "Categorical Raster Stat: LC_LandCover_GeoCover_proj_less than. Processed 1482 candidates in 10 seconds, retaining 1482 candidates\n",
      "Continuous Raster Stat: Road_Distance_greater than. Processed 1482 candidates in 11 seconds, retaining 1482 candidates\n",
      "Continuous Raster Stat: Water_Distance_greater than. Processed 1482 candidates in 12 seconds, retaining 1482 candidates\n"
     ]
    }
   ],
   "source": [
    "%lprun -f sitesearch.evaluateXML -f sitesearch.objective_raster.buildCategoricalRasterStatFromXML dfs = sitesearch.evaluateXML(xml,returnDFInsteadOfLayerID=True)"
   ]
  },
  {
   "cell_type": "code",
   "execution_count": 325,
   "metadata": {},
   "outputs": [],
   "source": [
    "df0 = dfs[0]\n",
    "df1 = dfs[1]"
   ]
  },
  {
   "cell_type": "code",
   "execution_count": 326,
   "metadata": {},
   "outputs": [
    {
     "data": {
      "text/html": [
       "<div>\n",
       "<style>\n",
       "    .dataframe thead tr:only-child th {\n",
       "        text-align: right;\n",
       "    }\n",
       "\n",
       "    .dataframe thead th {\n",
       "        text-align: left;\n",
       "    }\n",
       "\n",
       "    .dataframe tbody tr th {\n",
       "        vertical-align: top;\n",
       "    }\n",
       "</style>\n",
       "<table border=\"1\" class=\"dataframe\">\n",
       "  <thead>\n",
       "    <tr style=\"text-align: right;\">\n",
       "      <th></th>\n",
       "      <th>index</th>\n",
       "      <th>geometry</th>\n",
       "      <th>Criteria_1</th>\n",
       "      <th>Criteria_1_QAF</th>\n",
       "      <th>Criteria_2</th>\n",
       "      <th>Criteria_2_QAF</th>\n",
       "      <th>Criteria_3</th>\n",
       "      <th>Criteria_3_QAF</th>\n",
       "      <th>count</th>\n",
       "      <th>max</th>\n",
       "      <th>mean</th>\n",
       "      <th>min</th>\n",
       "      <th>totalCutFillVolume</th>\n",
       "      <th>Criteria_4</th>\n",
       "      <th>Criteria_4_QAF</th>\n",
       "      <th>Criteria_1_QAF_weighted</th>\n",
       "      <th>Criteria_2_QAF_weighted</th>\n",
       "      <th>Criteria_3_QAF_weighted</th>\n",
       "      <th>Criteria_4_QAF_weighted</th>\n",
       "      <th>MCDA_SCORE</th>\n",
       "      <th>MCDA_SCORE_STANDARDIZED</th>\n",
       "    </tr>\n",
       "  </thead>\n",
       "  <tbody>\n",
       "    <tr>\n",
       "      <th>0</th>\n",
       "      <td>0</td>\n",
       "      <td>POLYGON ((-10260228.61403034 4556130.718112956...</td>\n",
       "      <td>0.000000</td>\n",
       "      <td>0.0</td>\n",
       "      <td>7.174781</td>\n",
       "      <td>0.0</td>\n",
       "      <td>914.547112</td>\n",
       "      <td>100.0</td>\n",
       "      <td>204</td>\n",
       "      <td>312.0</td>\n",
       "      <td>292.014706</td>\n",
       "      <td>264.0</td>\n",
       "      <td>2346.647059</td>\n",
       "      <td>2346.647059</td>\n",
       "      <td>100.0</td>\n",
       "      <td>0.0</td>\n",
       "      <td>0.0</td>\n",
       "      <td>25.0</td>\n",
       "      <td>25.0</td>\n",
       "      <td>50.0</td>\n",
       "      <td>52.631579</td>\n",
       "    </tr>\n",
       "    <tr>\n",
       "      <th>1</th>\n",
       "      <td>1</td>\n",
       "      <td>POLYGON ((-10260228.61403034 4556930.718112956...</td>\n",
       "      <td>1.360544</td>\n",
       "      <td>0.0</td>\n",
       "      <td>7.199372</td>\n",
       "      <td>0.0</td>\n",
       "      <td>1527.808389</td>\n",
       "      <td>100.0</td>\n",
       "      <td>200</td>\n",
       "      <td>312.0</td>\n",
       "      <td>286.815000</td>\n",
       "      <td>251.0</td>\n",
       "      <td>3090.180000</td>\n",
       "      <td>3090.180000</td>\n",
       "      <td>100.0</td>\n",
       "      <td>0.0</td>\n",
       "      <td>0.0</td>\n",
       "      <td>25.0</td>\n",
       "      <td>25.0</td>\n",
       "      <td>50.0</td>\n",
       "      <td>52.631579</td>\n",
       "    </tr>\n",
       "    <tr>\n",
       "      <th>2</th>\n",
       "      <td>2</td>\n",
       "      <td>POLYGON ((-10260751.98143581 4559213.932235508...</td>\n",
       "      <td>5.714286</td>\n",
       "      <td>0.0</td>\n",
       "      <td>9.113578</td>\n",
       "      <td>0.0</td>\n",
       "      <td>1582.647154</td>\n",
       "      <td>100.0</td>\n",
       "      <td>216</td>\n",
       "      <td>304.0</td>\n",
       "      <td>271.004630</td>\n",
       "      <td>243.0</td>\n",
       "      <td>3665.064815</td>\n",
       "      <td>3665.064815</td>\n",
       "      <td>100.0</td>\n",
       "      <td>0.0</td>\n",
       "      <td>0.0</td>\n",
       "      <td>25.0</td>\n",
       "      <td>25.0</td>\n",
       "      <td>50.0</td>\n",
       "      <td>52.631579</td>\n",
       "    </tr>\n",
       "    <tr>\n",
       "      <th>3</th>\n",
       "      <td>3</td>\n",
       "      <td>POLYGON ((-10259428.61403034 4552930.718112956...</td>\n",
       "      <td>0.000000</td>\n",
       "      <td>0.0</td>\n",
       "      <td>5.610746</td>\n",
       "      <td>40.0</td>\n",
       "      <td>367.069256</td>\n",
       "      <td>100.0</td>\n",
       "      <td>200</td>\n",
       "      <td>327.0</td>\n",
       "      <td>302.330000</td>\n",
       "      <td>272.0</td>\n",
       "      <td>3062.660000</td>\n",
       "      <td>3062.660000</td>\n",
       "      <td>100.0</td>\n",
       "      <td>0.0</td>\n",
       "      <td>10.0</td>\n",
       "      <td>25.0</td>\n",
       "      <td>25.0</td>\n",
       "      <td>60.0</td>\n",
       "      <td>63.157895</td>\n",
       "    </tr>\n",
       "    <tr>\n",
       "      <th>4</th>\n",
       "      <td>4</td>\n",
       "      <td>POLYGON ((-10259428.61403034 4553730.718112956...</td>\n",
       "      <td>0.000000</td>\n",
       "      <td>0.0</td>\n",
       "      <td>3.572735</td>\n",
       "      <td>100.0</td>\n",
       "      <td>0.000000</td>\n",
       "      <td>0.0</td>\n",
       "      <td>204</td>\n",
       "      <td>327.0</td>\n",
       "      <td>315.519608</td>\n",
       "      <td>292.0</td>\n",
       "      <td>1280.098039</td>\n",
       "      <td>1280.098039</td>\n",
       "      <td>100.0</td>\n",
       "      <td>0.0</td>\n",
       "      <td>25.0</td>\n",
       "      <td>0.0</td>\n",
       "      <td>25.0</td>\n",
       "      <td>50.0</td>\n",
       "      <td>52.631579</td>\n",
       "    </tr>\n",
       "  </tbody>\n",
       "</table>\n",
       "</div>"
      ],
      "text/plain": [
       "   index                                           geometry  Criteria_1  \\\n",
       "0      0  POLYGON ((-10260228.61403034 4556130.718112956...    0.000000   \n",
       "1      1  POLYGON ((-10260228.61403034 4556930.718112956...    1.360544   \n",
       "2      2  POLYGON ((-10260751.98143581 4559213.932235508...    5.714286   \n",
       "3      3  POLYGON ((-10259428.61403034 4552930.718112956...    0.000000   \n",
       "4      4  POLYGON ((-10259428.61403034 4553730.718112956...    0.000000   \n",
       "\n",
       "   Criteria_1_QAF  Criteria_2  Criteria_2_QAF   Criteria_3  Criteria_3_QAF  \\\n",
       "0             0.0    7.174781             0.0   914.547112           100.0   \n",
       "1             0.0    7.199372             0.0  1527.808389           100.0   \n",
       "2             0.0    9.113578             0.0  1582.647154           100.0   \n",
       "3             0.0    5.610746            40.0   367.069256           100.0   \n",
       "4             0.0    3.572735           100.0     0.000000             0.0   \n",
       "\n",
       "   count    max        mean    min  totalCutFillVolume   Criteria_4  \\\n",
       "0    204  312.0  292.014706  264.0         2346.647059  2346.647059   \n",
       "1    200  312.0  286.815000  251.0         3090.180000  3090.180000   \n",
       "2    216  304.0  271.004630  243.0         3665.064815  3665.064815   \n",
       "3    200  327.0  302.330000  272.0         3062.660000  3062.660000   \n",
       "4    204  327.0  315.519608  292.0         1280.098039  1280.098039   \n",
       "\n",
       "   Criteria_4_QAF  Criteria_1_QAF_weighted  Criteria_2_QAF_weighted  \\\n",
       "0           100.0                      0.0                      0.0   \n",
       "1           100.0                      0.0                      0.0   \n",
       "2           100.0                      0.0                      0.0   \n",
       "3           100.0                      0.0                     10.0   \n",
       "4           100.0                      0.0                     25.0   \n",
       "\n",
       "   Criteria_3_QAF_weighted  Criteria_4_QAF_weighted  MCDA_SCORE  \\\n",
       "0                     25.0                     25.0        50.0   \n",
       "1                     25.0                     25.0        50.0   \n",
       "2                     25.0                     25.0        50.0   \n",
       "3                     25.0                     25.0        60.0   \n",
       "4                      0.0                     25.0        50.0   \n",
       "\n",
       "   MCDA_SCORE_STANDARDIZED  \n",
       "0                52.631579  \n",
       "1                52.631579  \n",
       "2                52.631579  \n",
       "3                63.157895  \n",
       "4                52.631579  "
      ]
     },
     "execution_count": 326,
     "metadata": {},
     "output_type": "execute_result"
    }
   ],
   "source": [
    "df0.head()"
   ]
  },
  {
   "cell_type": "code",
   "execution_count": null,
   "metadata": {},
   "outputs": [],
   "source": []
  },
  {
   "cell_type": "code",
   "execution_count": null,
   "metadata": {},
   "outputs": [],
   "source": []
  },
  {
   "cell_type": "code",
   "execution_count": 281,
   "metadata": {},
   "outputs": [
    {
     "data": {
      "text/plain": [
       "Text(0.5,0.98,u'Areas of Interest')"
      ]
     },
     "execution_count": 281,
     "metadata": {},
     "output_type": "execute_result"
    },
    {
     "data": {
      "image/png": "[encoded data removed]",
      "text/plain": [
       "<matplotlib.figure.Figure at 0x2bc1b240>"
      ]
     },
     "metadata": {},
     "output_type": "display_data"
    }
   ],
   "source": [
    "import geopandas as gpd\n",
    "import matplotlib.pyplot as plt\n",
    "%matplotlib inline\n",
    "aoiDF = gpd.read_file(\"../FLW_Missouri Mission Folder/SUPPORT/Staging.shp\")\n",
    "aoiDF = aoiDF.to_crs({'init':'epsg:3857'})\n",
    "squareDimension = 400\n",
    "aoiDF.plot()\n",
    "plt.suptitle(\"Areas of Interest\")"
   ]
  },
  {
   "cell_type": "code",
   "execution_count": 282,
   "metadata": {},
   "outputs": [
    {
     "name": "stdout",
     "output_type": "stream",
     "text": [
      "Airfield: POLYGON ((-92.0420407203899770 37.8786674360582940, -91.9278626441980150 37.8792673513784450, -91.9272790878007130 37.8100408421962090, -92.0414571639926610 37.8094403634696410, -92.0420407203899770 37.8786674360582940))\n",
      "Red: POLYGON ((-92.2937812277846770 37.7353612509118080, -92.2020132175820070 37.7364461384693680, -92.2007296144230250 37.6685084584884250, -92.2924976246256680 37.6674225761625930, -92.2937812277846770 37.7353612509118080))\n",
      "Blue: POLYGON ((-92.0852172668016210 37.7407181466318420, -91.9877289887035090 37.7398891889496540, -91.9887410491910630 37.6654206226553260, -92.0862293272891320 37.6662504135641640, -92.0852172668016210 37.7407181466318420))\n",
      "CBITEC: POLYGON ((-92.1739596373465990 37.7460796171828790, -92.1605301799799010 37.7460417042094390, -92.1605803079124400 37.7350642138074620, -92.1740077823008480 37.7351021118712140, -92.1739596373465990 37.7460796171828790))\n",
      "CBITEC centroid: POINT (-92.16726947722954 37.7405720468603)\n",
      "projectedAirfield: POLYGON ((-10246073.1045675630000000 4562299.7416686974000000, -10233362.8592661190000000 4562384.3501341278000000, -10233297.8980651220000000 4552625.6008688156000000, -10246008.1433665640000000 4552540.9924033955000000, -10246073.1045675630000000 4562299.7416686974000000))\n",
      "projected airfield centroid: POINT (-10239685.50131634 4557462.671268759)\n"
     ]
    }
   ],
   "source": [
    "aoiDF_unproj = aoiDF.to_crs({'init':'epsg:4326'})\n",
    "airfieldAOI = aoiDF_unproj[aoiDF_unproj['Stage']=='Gold'].reset_index().geometry[0]\n",
    "baseObjective1AOI = aoiDF_unproj[aoiDF_unproj['Stage']=='Red'].reset_index().geometry[0]\n",
    "baseObjective2AOI = aoiDF_unproj[aoiDF_unproj['Stage']=='Blue'].reset_index().geometry[0]\n",
    "cbitec = aoiDF_unproj[aoiDF_unproj['Stage']=='White'].reset_index().geometry[0]\n",
    "\n",
    "print \"Airfield: %s\" %(str(airfieldAOI.to_wkt()))\n",
    "print \"Red: %s\" %(str(baseObjective1AOI.to_wkt()))\n",
    "print \"Blue: %s\" %(str(baseObjective2AOI.to_wkt()))\n",
    "print \"CBITEC: %s\" %(str(cbitec.to_wkt()))\n",
    "print \"CBITEC centroid: %s\" %(cbitec.centroid)\n",
    "\n",
    "projectedAirfield = aoiDF[aoiDF['Stage']=='Gold'].reset_index().geometry[0]\n",
    "print \"projectedAirfield: %s\" %(projectedAirfield.to_wkt())\n",
    "print \"projected airfield centroid: %s\" %(projectedAirfield.centroid)"
   ]
  },
  {
   "cell_type": "code",
   "execution_count": null,
   "metadata": {},
   "outputs": [],
   "source": []
  }
 ],
 "metadata": {
  "kernelspec": {
   "display_name": "Python 2",
   "language": "python",
   "name": "python2"
  },
  "language_info": {
   "codemirror_mode": {
    "name": "ipython",
    "version": 2
   },
   "file_extension": ".py",
   "mimetype": "text/x-python",
   "name": "python",
   "nbconvert_exporter": "python",
   "pygments_lexer": "ipython2",
   "version": "2.7.14"
  }
 },
 "nbformat": 4,
 "nbformat_minor": 2
}
